{
 "cells": [
  {
   "cell_type": "code",
   "execution_count": 25,
   "metadata": {},
   "outputs": [],
   "source": [
    "import matplotlib.pyplot as plt\n",
    "import numpy as np"
   ]
  },
  {
   "cell_type": "code",
   "execution_count": 4,
   "metadata": {},
   "outputs": [],
   "source": [
    "train = np.loadtxt(r'C:\\Users\\Gaodongyu\\Documents\\gaodongyu\\10 math of ML\\sourcecode-cn\\sourcecode-cn\\click.csv', delimiter=',', skiprows=1)\n",
    "train_x = train[:, 0]\n",
    "train_y = train[:, 1]"
   ]
  },
  {
   "cell_type": "code",
   "execution_count": 6,
   "metadata": {},
   "outputs": [
    {
     "data": {
      "image/png": "[encoded data removed]",
      "text/plain": [
       "<Figure size 432x288 with 1 Axes>"
      ]
     },
     "metadata": {
      "needs_background": "light"
     },
     "output_type": "display_data"
    }
   ],
   "source": [
    "plt.plot(train_x, train_y, 'o')\n",
    "plt.show()"
   ]
  },
  {
   "cell_type": "markdown",
   "metadata": {},
   "source": [
    "线性回归"
   ]
  },
  {
   "cell_type": "code",
   "execution_count": 8,
   "metadata": {},
   "outputs": [],
   "source": [
    "theta0 = np.random.rand()\n",
    "theta1 = np.random.rand()"
   ]
  },
  {
   "cell_type": "code",
   "execution_count": 10,
   "metadata": {},
   "outputs": [],
   "source": [
    "def f(x):\n",
    "    return theta0 + theta1 * x"
   ]
  },
  {
   "cell_type": "code",
   "execution_count": 11,
   "metadata": {},
   "outputs": [],
   "source": [
    "def E(x,y):\n",
    "    return 0.5 * (np.sum(y - f(x)) ** 2)"
   ]
  },
  {
   "cell_type": "code",
   "execution_count": 13,
   "metadata": {},
   "outputs": [],
   "source": [
    "mu = train_x.mean()\n",
    "sigma = train_x.std()\n",
    "def standardize(x):\n",
    "    return (x - mu)/sigma\n",
    "train_z = standardize(train_x)"
   ]
  },
  {
   "cell_type": "code",
   "execution_count": 16,
   "metadata": {},
   "outputs": [
    {
     "data": {
      "image/png": "[encoded data removed]",
      "text/plain": [
       "<Figure size 432x288 with 1 Axes>"
      ]
     },
     "metadata": {
      "needs_background": "light"
     },
     "output_type": "display_data"
    }
   ],
   "source": [
    "plt.plot(train_z, train_y, 'o')\n",
    "plt.show()"
   ]
  },
  {
   "cell_type": "code",
   "execution_count": 18,
   "metadata": {},
   "outputs": [
    {
     "name": "stdout",
     "output_type": "stream",
     "text": [
      "第1次: theta0 = 17.385, theta1 = 4.175, 差值 = 1398207.8839\n",
      "第2次: theta0 = 25.620, theta1 = 5.961, 差值 = 1342838.8517\n",
      "第3次: theta0 = 33.691, theta1 = 7.712, 差值 = 1289662.4331\n",
      "第4次: theta0 = 41.600, theta1 = 9.427, 差值 = 1238591.8008\n",
      "第5次: theta0 = 49.351, theta1 = 11.108, 差值 = 1189543.5655\n",
      "第6次: theta0 = 56.947, theta1 = 12.756, 差值 = 1142437.6403\n",
      "第7次: theta0 = 64.391, theta1 = 14.370, 差值 = 1097197.1097\n",
      "第8次: theta0 = 71.686, theta1 = 15.952, 差值 = 1053748.1042\n",
      "第9次: theta0 = 78.836, theta1 = 17.503, 差值 = 1012019.6793\n",
      "第10次: theta0 = 85.842, theta1 = 19.022, 差值 = 971943.7000\n",
      "第11次: theta0 = 92.708, theta1 = 20.511, 差值 = 933454.7294\n",
      "第12次: theta0 = 99.437, theta1 = 21.971, 差值 = 896489.9221\n",
      "第13次: theta0 = 106.031, theta1 = 23.401, 差值 = 860988.9212\n",
      "第14次: theta0 = 112.494, theta1 = 24.802, 差值 = 826893.7600\n",
      "第15次: theta0 = 118.827, theta1 = 26.176, 差值 = 794148.7671\n",
      "第16次: theta0 = 125.033, theta1 = 27.522, 差值 = 762700.4759\n",
      "第17次: theta0 = 131.115, theta1 = 28.841, 差值 = 732497.5370\n",
      "第18次: theta0 = 137.076, theta1 = 30.134, 差值 = 703490.6346\n",
      "第19次: theta0 = 142.918, theta1 = 31.401, 差值 = 675632.4054\n",
      "第20次: theta0 = 148.642, theta1 = 32.642, 差值 = 648877.3622\n",
      "第21次: theta0 = 154.252, theta1 = 33.859, 差值 = 623181.8186\n",
      "第22次: theta0 = 159.750, theta1 = 35.051, 差值 = 598503.8186\n",
      "第23次: theta0 = 165.138, theta1 = 36.220, 差值 = 574803.0674\n",
      "第24次: theta0 = 170.419, theta1 = 37.365, 差值 = 552040.8659\n",
      "第25次: theta0 = 175.593, theta1 = 38.487, 差值 = 530180.0476\n",
      "第26次: theta0 = 180.664, theta1 = 39.587, 差值 = 509184.9178\n",
      "第27次: theta0 = 185.634, theta1 = 40.665, 差值 = 489021.1950\n",
      "第28次: theta0 = 190.504, theta1 = 41.721, 差值 = 469655.9557\n",
      "第29次: theta0 = 195.277, theta1 = 42.757, 差值 = 451057.5798\n",
      "第30次: theta0 = 199.955, theta1 = 43.771, 差值 = 433195.6997\n",
      "第31次: theta0 = 204.539, theta1 = 44.765, 差值 = 416041.1500\n",
      "第32次: theta0 = 209.031, theta1 = 45.739, 差值 = 399565.9204\n",
      "第33次: theta0 = 213.433, theta1 = 46.694, 差值 = 383743.1100\n",
      "第34次: theta0 = 217.748, theta1 = 47.630, 差值 = 368546.8828\n",
      "第35次: theta0 = 221.976, theta1 = 48.547, 差值 = 353952.4263\n",
      "第36次: theta0 = 226.119, theta1 = 49.446, 差值 = 339935.9102\n",
      "第37次: theta0 = 230.180, theta1 = 50.326, 差值 = 326474.4482\n",
      "第38次: theta0 = 234.159, theta1 = 51.189, 差值 = 313546.0600\n",
      "第39次: theta0 = 238.059, theta1 = 52.035, 差值 = 301129.6360\n",
      "第40次: theta0 = 241.881, theta1 = 52.864, 差值 = 289204.9024\n",
      "第41次: theta0 = 245.626, theta1 = 53.676, 差值 = 277752.3883\n",
      "第42次: theta0 = 249.297, theta1 = 54.472, 差值 = 266753.3937\n",
      "第43次: theta0 = 252.894, theta1 = 55.252, 差值 = 256189.9593\n",
      "第44次: theta0 = 256.419, theta1 = 56.017, 差值 = 246044.8369\n",
      "第45次: theta0 = 259.873, theta1 = 56.766, 差值 = 236301.4614\n",
      "第46次: theta0 = 263.259, theta1 = 57.500, 差值 = 226943.9235\n",
      "第47次: theta0 = 266.577, theta1 = 58.220, 差值 = 217956.9442\n",
      "第48次: theta0 = 269.828, theta1 = 58.925, 差值 = 209325.8492\n",
      "第49次: theta0 = 273.015, theta1 = 59.616, 差值 = 201036.5455\n",
      "第50次: theta0 = 276.137, theta1 = 60.293, 差值 = 193075.4983\n",
      "第51次: theta0 = 279.198, theta1 = 60.957, 差值 = 185429.7086\n",
      "第52次: theta0 = 282.197, theta1 = 61.608, 差值 = 178086.6921\n",
      "第53次: theta0 = 285.136, theta1 = 62.245, 差值 = 171034.4591\n",
      "第54次: theta0 = 288.016, theta1 = 62.870, 差值 = 164261.4946\n",
      "第55次: theta0 = 290.839, theta1 = 63.482, 差值 = 157756.7394\n",
      "第56次: theta0 = 293.605, theta1 = 64.082, 差值 = 151509.5725\n",
      "第57次: theta0 = 296.316, theta1 = 64.670, 差值 = 145509.7934\n",
      "第58次: theta0 = 298.973, theta1 = 65.246, 差值 = 139747.6056\n",
      "第59次: theta0 = 301.576, theta1 = 65.811, 差值 = 134213.6004\n",
      "第60次: theta0 = 304.128, theta1 = 66.364, 差值 = 128898.7418\n",
      "第61次: theta0 = 306.628, theta1 = 66.906, 差值 = 123794.3517\n",
      "第62次: theta0 = 309.078, theta1 = 67.438, 差值 = 118892.0953\n",
      "第63次: theta0 = 311.480, theta1 = 67.959, 差值 = 114183.9684\n",
      "第64次: theta0 = 313.833, theta1 = 68.469, 差值 = 109662.2832\n",
      "第65次: theta0 = 316.140, theta1 = 68.969, 差值 = 105319.6568\n",
      "第66次: theta0 = 318.400, theta1 = 69.459, 差值 = 101148.9984\n",
      "第67次: theta0 = 320.615, theta1 = 69.940, 差值 = 97143.4981\n",
      "第68次: theta0 = 322.786, theta1 = 70.410, 差值 = 93296.6155\n",
      "第69次: theta0 = 324.913, theta1 = 70.872, 差值 = 89602.0696\n",
      "第70次: theta0 = 326.998, theta1 = 71.324, 差值 = 86053.8276\n",
      "第71次: theta0 = 329.041, theta1 = 71.767, 差值 = 82646.0960\n",
      "第72次: theta0 = 331.043, theta1 = 72.201, 差值 = 79373.3106\n",
      "第73次: theta0 = 333.005, theta1 = 72.627, 差值 = 76230.1275\n",
      "第74次: theta0 = 334.928, theta1 = 73.044, 差值 = 73211.4145\n",
      "第75次: theta0 = 336.812, theta1 = 73.453, 差值 = 70312.2425\n",
      "第76次: theta0 = 338.659, theta1 = 73.853, 差值 = 67527.8777\n",
      "第77次: theta0 = 340.469, theta1 = 74.246, 差值 = 64853.7737\n",
      "第78次: theta0 = 342.243, theta1 = 74.630, 差值 = 62285.5643\n",
      "第79次: theta0 = 343.981, theta1 = 75.007, 差值 = 59819.0559\n",
      "第80次: theta0 = 345.684, theta1 = 75.377, 差值 = 57450.2213\n",
      "第81次: theta0 = 347.353, theta1 = 75.739, 差值 = 55175.1925\n",
      "第82次: theta0 = 348.989, theta1 = 76.094, 差值 = 52990.2549\n",
      "第83次: theta0 = 350.593, theta1 = 76.441, 差值 = 50891.8408\n",
      "第84次: theta0 = 352.164, theta1 = 76.782, 差值 = 48876.5239\n",
      "第85次: theta0 = 353.703, theta1 = 77.116, 差值 = 46941.0136\n",
      "第86次: theta0 = 355.212, theta1 = 77.443, 差值 = 45082.1494\n",
      "第87次: theta0 = 356.691, theta1 = 77.764, 差值 = 43296.8963\n",
      "第88次: theta0 = 358.140, theta1 = 78.078, 差值 = 41582.3392\n",
      "第89次: theta0 = 359.560, theta1 = 78.386, 差值 = 39935.6786\n",
      "第90次: theta0 = 360.952, theta1 = 78.688, 差值 = 38354.2257\n",
      "第91次: theta0 = 362.316, theta1 = 78.984, 差值 = 36835.3984\n",
      "第92次: theta0 = 363.653, theta1 = 79.274, 差值 = 35376.7166\n",
      "第93次: theta0 = 364.963, theta1 = 79.558, 差值 = 33975.7986\n",
      "第94次: theta0 = 366.247, theta1 = 79.836, 差值 = 32630.3570\n",
      "第95次: theta0 = 367.505, theta1 = 80.109, 差值 = 31338.1949\n",
      "第96次: theta0 = 368.738, theta1 = 80.377, 差值 = 30097.2024\n",
      "第97次: theta0 = 369.946, theta1 = 80.639, 差值 = 28905.3531\n",
      "第98次: theta0 = 371.130, theta1 = 80.895, 差值 = 27760.7012\n",
      "第99次: theta0 = 372.290, theta1 = 81.147, 差值 = 26661.3774\n",
      "第100次: theta0 = 373.427, theta1 = 81.394, 差值 = 25605.5868\n",
      "第101次: theta0 = 374.542, theta1 = 81.635, 差值 = 24591.6056\n",
      "第102次: theta0 = 375.634, theta1 = 81.872, 差值 = 23617.7780\n",
      "第103次: theta0 = 376.704, theta1 = 82.104, 差值 = 22682.5140\n",
      "第104次: theta0 = 377.753, theta1 = 82.332, 差值 = 21784.2865\n",
      "第105次: theta0 = 378.781, theta1 = 82.555, 差值 = 20921.6287\n",
      "第106次: theta0 = 379.789, theta1 = 82.773, 差值 = 20093.1322\n",
      "第107次: theta0 = 380.776, theta1 = 82.987, 差值 = 19297.4442\n",
      "第108次: theta0 = 381.743, theta1 = 83.197, 差值 = 18533.2654\n",
      "第109次: theta0 = 382.691, theta1 = 83.403, 差值 = 17799.3481\n",
      "第110次: theta0 = 383.621, theta1 = 83.604, 差值 = 17094.4939\n",
      "第111次: theta0 = 384.531, theta1 = 83.802, 差值 = 16417.5519\n",
      "第112次: theta0 = 385.424, theta1 = 83.995, 差值 = 15767.4169\n",
      "第113次: theta0 = 386.298, theta1 = 84.185, 差值 = 15143.0272\n",
      "第114次: theta0 = 387.155, theta1 = 84.371, 差值 = 14543.3633\n",
      "第115次: theta0 = 387.995, theta1 = 84.553, 差值 = 13967.4461\n",
      "第116次: theta0 = 388.818, theta1 = 84.732, 差值 = 13414.3352\n",
      "第117次: theta0 = 389.625, theta1 = 84.907, 差值 = 12883.1276\n",
      "第118次: theta0 = 390.415, theta1 = 85.078, 差值 = 12372.9557\n",
      "第119次: theta0 = 391.190, theta1 = 85.246, 差值 = 11882.9867\n",
      "第120次: theta0 = 391.949, theta1 = 85.411, 差值 = 11412.4204\n",
      "第121次: theta0 = 392.693, theta1 = 85.572, 差值 = 10960.4886\n",
      "第122次: theta0 = 393.422, theta1 = 85.730, 差值 = 10526.4532\n",
      "第123次: theta0 = 394.137, theta1 = 85.885, 差值 = 10109.6057\n",
      "第124次: theta0 = 394.837, theta1 = 86.037, 差值 = 9709.2653\n",
      "第125次: theta0 = 395.523, theta1 = 86.186, 差值 = 9324.7784\n",
      "第126次: theta0 = 396.196, theta1 = 86.332, 差值 = 8955.5171\n",
      "第127次: theta0 = 396.855, theta1 = 86.475, 差值 = 8600.8787\n",
      "第128次: theta0 = 397.501, theta1 = 86.615, 差值 = 8260.2839\n",
      "第129次: theta0 = 398.134, theta1 = 86.752, 差值 = 7933.1766\n",
      "第130次: theta0 = 398.754, theta1 = 86.887, 差值 = 7619.0228\n",
      "第131次: theta0 = 399.362, theta1 = 87.018, 差值 = 7317.3095\n",
      "第132次: theta0 = 399.958, theta1 = 87.148, 差值 = 7027.5441\n",
      "第133次: theta0 = 400.542, theta1 = 87.274, 差值 = 6749.2533\n",
      "第134次: theta0 = 401.114, theta1 = 87.398, 差值 = 6481.9829\n",
      "第135次: theta0 = 401.675, theta1 = 87.520, 差值 = 6225.2964\n",
      "第136次: theta0 = 402.224, theta1 = 87.639, 差值 = 5978.7746\n",
      "第137次: theta0 = 402.763, theta1 = 87.756, 差值 = 5742.0152\n",
      "第138次: theta0 = 403.290, theta1 = 87.870, 差值 = 5514.6314\n",
      "第139次: theta0 = 403.808, theta1 = 87.983, 差值 = 5296.2520\n",
      "第140次: theta0 = 404.314, theta1 = 88.092, 差值 = 5086.5204\n",
      "第141次: theta0 = 404.811, theta1 = 88.200, 差值 = 4885.0942\n",
      "第142次: theta0 = 405.298, theta1 = 88.306, 差值 = 4691.6444\n",
      "第143次: theta0 = 405.775, theta1 = 88.409, 差值 = 4505.8553\n",
      "第144次: theta0 = 406.242, theta1 = 88.511, 差值 = 4327.4235\n",
      "第145次: theta0 = 406.701, theta1 = 88.610, 差值 = 4156.0575\n",
      "第146次: theta0 = 407.150, theta1 = 88.707, 差值 = 3991.4776\n",
      "第147次: theta0 = 407.590, theta1 = 88.803, 差值 = 3833.4151\n",
      "第148次: theta0 = 408.021, theta1 = 88.896, 差值 = 3681.6119\n",
      "第149次: theta0 = 408.443, theta1 = 88.988, 差值 = 3535.8200\n",
      "第150次: theta0 = 408.858, theta1 = 89.078, 差值 = 3395.8016\n",
      "第151次: theta0 = 409.263, theta1 = 89.166, 差值 = 3261.3278\n",
      "第152次: theta0 = 409.661, theta1 = 89.252, 差值 = 3132.1792\n",
      "第153次: theta0 = 410.051, theta1 = 89.337, 差值 = 3008.1449\n",
      "第154次: theta0 = 410.433, theta1 = 89.419, 差值 = 2889.0224\n",
      "第155次: theta0 = 410.807, theta1 = 89.501, 差值 = 2774.6171\n",
      "第156次: theta0 = 411.174, theta1 = 89.580, 差值 = 2664.7423\n",
      "第157次: theta0 = 411.534, theta1 = 89.658, 差值 = 2559.2185\n",
      "第158次: theta0 = 411.886, theta1 = 89.735, 差值 = 2457.8734\n",
      "第159次: theta0 = 412.231, theta1 = 89.809, 差值 = 2360.5416\n",
      "第160次: theta0 = 412.570, theta1 = 89.883, 差值 = 2267.0642\n",
      "第161次: theta0 = 412.901, theta1 = 89.955, 差值 = 2177.2884\n",
      "第162次: theta0 = 413.226, theta1 = 90.025, 差值 = 2091.0678\n",
      "第163次: theta0 = 413.545, theta1 = 90.094, 差值 = 2008.2615\n",
      "第164次: theta0 = 413.857, theta1 = 90.162, 差值 = 1928.7344\n",
      "第165次: theta0 = 414.163, theta1 = 90.228, 差值 = 1852.3565\n",
      "第166次: theta0 = 414.462, theta1 = 90.293, 差值 = 1779.0032\n",
      "第167次: theta0 = 414.756, theta1 = 90.357, 差值 = 1708.5547\n",
      "第168次: theta0 = 415.044, theta1 = 90.419, 差值 = 1640.8959\n",
      "第169次: theta0 = 415.326, theta1 = 90.481, 差值 = 1575.9164\n",
      "第170次: theta0 = 415.603, theta1 = 90.541, 差值 = 1513.5101\n",
      "第171次: theta0 = 415.874, theta1 = 90.599, 差值 = 1453.5751\n",
      "第172次: theta0 = 416.139, theta1 = 90.657, 差值 = 1396.0135\n",
      "第173次: theta0 = 416.399, theta1 = 90.713, 差值 = 1340.7314\n",
      "第174次: theta0 = 416.654, theta1 = 90.769, 差值 = 1287.6384\n",
      "第175次: theta0 = 416.904, theta1 = 90.823, 差值 = 1236.6480\n",
      "第176次: theta0 = 417.149, theta1 = 90.876, 差值 = 1187.6767\n",
      "第177次: theta0 = 417.389, theta1 = 90.928, 差值 = 1140.6447\n",
      "第178次: theta0 = 417.624, theta1 = 90.979, 差值 = 1095.4752\n",
      "第179次: theta0 = 417.855, theta1 = 91.029, 差值 = 1052.0944\n",
      "第180次: theta0 = 418.081, theta1 = 91.078, 差值 = 1010.4314\n",
      "第181次: theta0 = 418.302, theta1 = 91.126, 差值 = 970.4183\n",
      "第182次: theta0 = 418.519, theta1 = 91.173, 差值 = 931.9898\n",
      "第183次: theta0 = 418.732, theta1 = 91.219, 差值 = 895.0830\n",
      "第184次: theta0 = 418.940, theta1 = 91.264, 差值 = 859.6377\n",
      "第185次: theta0 = 419.144, theta1 = 91.309, 差值 = 825.5960\n",
      "第186次: theta0 = 419.344, theta1 = 91.352, 差值 = 792.9024\n",
      "第187次: theta0 = 419.541, theta1 = 91.395, 差值 = 761.5035\n",
      "第188次: theta0 = 419.733, theta1 = 91.436, 差值 = 731.3480\n",
      "第189次: theta0 = 419.921, theta1 = 91.477, 差值 = 702.3866\n",
      "第190次: theta0 = 420.106, theta1 = 91.517, 差值 = 674.5721\n",
      "第191次: theta0 = 420.287, theta1 = 91.556, 差值 = 647.8590\n",
      "第192次: theta0 = 420.464, theta1 = 91.595, 差值 = 622.2038\n",
      "第193次: theta0 = 420.638, theta1 = 91.633, 差值 = 597.5645\n",
      "第194次: theta0 = 420.808, theta1 = 91.670, 差值 = 573.9010\n",
      "第195次: theta0 = 420.975, theta1 = 91.706, 差值 = 551.1745\n",
      "第196次: theta0 = 421.138, theta1 = 91.741, 差值 = 529.3480\n",
      "第197次: theta0 = 421.298, theta1 = 91.776, 差值 = 508.3858\n",
      "第198次: theta0 = 421.455, theta1 = 91.810, 差值 = 488.2537\n",
      "第199次: theta0 = 421.609, theta1 = 91.843, 差值 = 468.9189\n",
      "第200次: theta0 = 421.760, theta1 = 91.876, 差值 = 450.3497\n",
      "第201次: theta0 = 421.908, theta1 = 91.908, 差值 = 432.5158\n",
      "第202次: theta0 = 422.053, theta1 = 91.940, 差值 = 415.3882\n",
      "第203次: theta0 = 422.195, theta1 = 91.970, 差值 = 398.9388\n",
      "第204次: theta0 = 422.334, theta1 = 92.000, 差值 = 383.1409\n",
      "第205次: theta0 = 422.470, theta1 = 92.030, 差值 = 367.9685\n",
      "第206次: theta0 = 422.604, theta1 = 92.059, 差值 = 353.3969\n",
      "第207次: theta0 = 422.735, theta1 = 92.087, 差值 = 339.4024\n",
      "第208次: theta0 = 422.863, theta1 = 92.115, 差值 = 325.9621\n",
      "第209次: theta0 = 422.989, theta1 = 92.143, 差值 = 313.0540\n",
      "第210次: theta0 = 423.112, theta1 = 92.169, 差值 = 300.6570\n",
      "第211次: theta0 = 423.233, theta1 = 92.195, 差值 = 288.7510\n",
      "第212次: theta0 = 423.351, theta1 = 92.221, 差值 = 277.3165\n",
      "第213次: theta0 = 423.467, theta1 = 92.246, 差值 = 266.3348\n",
      "第214次: theta0 = 423.581, theta1 = 92.271, 差值 = 255.7879\n",
      "第215次: theta0 = 423.692, theta1 = 92.295, 差值 = 245.6587\n",
      "第216次: theta0 = 423.801, theta1 = 92.319, 差值 = 235.9306\n",
      "第217次: theta0 = 423.908, theta1 = 92.342, 差值 = 226.5878\n",
      "第218次: theta0 = 424.013, theta1 = 92.365, 差值 = 217.6149\n",
      "第219次: theta0 = 424.116, theta1 = 92.387, 差值 = 208.9973\n",
      "第220次: theta0 = 424.216, theta1 = 92.409, 差值 = 200.7210\n",
      "第221次: theta0 = 424.315, theta1 = 92.430, 差值 = 192.7725\n",
      "第222次: theta0 = 424.412, theta1 = 92.451, 差值 = 185.1387\n",
      "第223次: theta0 = 424.507, theta1 = 92.472, 差值 = 177.8072\n",
      "第224次: theta0 = 424.599, theta1 = 92.492, 差值 = 170.7660\n",
      "第225次: theta0 = 424.690, theta1 = 92.512, 差值 = 164.0037\n",
      "第226次: theta0 = 424.780, theta1 = 92.531, 差值 = 157.5092\n",
      "第227次: theta0 = 424.867, theta1 = 92.550, 差值 = 151.2718\n",
      "第228次: theta0 = 424.953, theta1 = 92.568, 差值 = 145.2814\n",
      "第229次: theta0 = 425.037, theta1 = 92.587, 差值 = 139.5283\n",
      "第230次: theta0 = 425.119, theta1 = 92.605, 差值 = 134.0030\n",
      "第231次: theta0 = 425.200, theta1 = 92.622, 差值 = 128.6964\n",
      "第232次: theta0 = 425.279, theta1 = 92.639, 差值 = 123.6001\n",
      "第233次: theta0 = 425.356, theta1 = 92.656, 差值 = 118.7055\n",
      "第234次: theta0 = 425.432, theta1 = 92.672, 差值 = 114.0048\n",
      "第235次: theta0 = 425.506, theta1 = 92.689, 差值 = 109.4902\n",
      "第236次: theta0 = 425.579, theta1 = 92.704, 差值 = 105.1544\n",
      "第237次: theta0 = 425.651, theta1 = 92.720, 差值 = 100.9903\n",
      "第238次: theta0 = 425.721, theta1 = 92.735, 差值 = 96.9910\n",
      "第239次: theta0 = 425.789, theta1 = 92.750, 差值 = 93.1502\n",
      "第240次: theta0 = 425.856, theta1 = 92.764, 差值 = 89.4614\n",
      "第241次: theta0 = 425.922, theta1 = 92.779, 差值 = 85.9188\n",
      "第242次: theta0 = 425.987, theta1 = 92.793, 差值 = 82.5164\n",
      "第243次: theta0 = 426.050, theta1 = 92.806, 差值 = 79.2487\n",
      "第244次: theta0 = 426.112, theta1 = 92.820, 差值 = 76.1105\n",
      "第245次: theta0 = 426.173, theta1 = 92.833, 差值 = 73.0965\n",
      "第246次: theta0 = 426.232, theta1 = 92.846, 差值 = 70.2019\n",
      "第247次: theta0 = 426.291, theta1 = 92.859, 差值 = 67.4219\n",
      "第248次: theta0 = 426.348, theta1 = 92.871, 差值 = 64.7520\n",
      "第249次: theta0 = 426.404, theta1 = 92.883, 差值 = 62.1878\n",
      "第250次: theta0 = 426.459, theta1 = 92.895, 差值 = 59.7252\n",
      "第251次: theta0 = 426.513, theta1 = 92.907, 差值 = 57.3601\n",
      "第252次: theta0 = 426.565, theta1 = 92.918, 差值 = 55.0886\n",
      "第253次: theta0 = 426.617, theta1 = 92.929, 差值 = 52.9071\n",
      "第254次: theta0 = 426.668, theta1 = 92.940, 差值 = 50.8120\n",
      "第255次: theta0 = 426.717, theta1 = 92.951, 差值 = 48.7998\n",
      "第256次: theta0 = 426.766, theta1 = 92.962, 差值 = 46.8673\n",
      "第257次: theta0 = 426.814, theta1 = 92.972, 差值 = 45.0114\n",
      "第258次: theta0 = 426.860, theta1 = 92.982, 差值 = 43.2289\n",
      "第259次: theta0 = 426.906, theta1 = 92.992, 差值 = 41.5171\n",
      "第260次: theta0 = 426.951, theta1 = 93.002, 差值 = 39.8730\n",
      "第261次: theta0 = 426.995, theta1 = 93.011, 差值 = 38.2940\n",
      "第262次: theta0 = 427.038, theta1 = 93.021, 差值 = 36.7776\n",
      "第263次: theta0 = 427.080, theta1 = 93.030, 差值 = 35.3212\n",
      "第264次: theta0 = 427.122, theta1 = 93.039, 差值 = 33.9225\n",
      "第265次: theta0 = 427.162, theta1 = 93.048, 差值 = 32.5791\n",
      "第266次: theta0 = 427.202, theta1 = 93.056, 差值 = 31.2890\n",
      "第267次: theta0 = 427.241, theta1 = 93.065, 差值 = 30.0500\n",
      "第268次: theta0 = 427.279, theta1 = 93.073, 差值 = 28.8600\n",
      "第269次: theta0 = 427.317, theta1 = 93.081, 差值 = 27.7171\n",
      "第270次: theta0 = 427.353, theta1 = 93.089, 差值 = 26.6195\n",
      "第271次: theta0 = 427.389, theta1 = 93.097, 差值 = 25.5654\n",
      "第272次: theta0 = 427.424, theta1 = 93.105, 差值 = 24.5530\n",
      "第273次: theta0 = 427.459, theta1 = 93.112, 差值 = 23.5807\n",
      "第274次: theta0 = 427.493, theta1 = 93.119, 差值 = 22.6469\n",
      "第275次: theta0 = 427.526, theta1 = 93.127, 差值 = 21.7501\n",
      "第276次: theta0 = 427.558, theta1 = 93.134, 差值 = 20.8888\n",
      "第277次: theta0 = 427.590, theta1 = 93.140, 差值 = 20.0616\n",
      "第278次: theta0 = 427.621, theta1 = 93.147, 差值 = 19.2672\n",
      "第279次: theta0 = 427.652, theta1 = 93.154, 差值 = 18.5042\n",
      "第280次: theta0 = 427.682, theta1 = 93.160, 差值 = 17.7714\n",
      "第281次: theta0 = 427.711, theta1 = 93.167, 差值 = 17.0677\n",
      "第282次: theta0 = 427.740, theta1 = 93.173, 差值 = 16.3918\n",
      "第283次: theta0 = 427.768, theta1 = 93.179, 差值 = 15.7427\n",
      "第284次: theta0 = 427.796, theta1 = 93.185, 差值 = 15.1193\n",
      "第285次: theta0 = 427.823, theta1 = 93.191, 差值 = 14.5205\n",
      "第286次: theta0 = 427.850, theta1 = 93.197, 差值 = 13.9455\n",
      "第287次: theta0 = 427.876, theta1 = 93.202, 差值 = 13.3933\n",
      "第288次: theta0 = 427.901, theta1 = 93.208, 差值 = 12.8629\n",
      "第289次: theta0 = 427.926, theta1 = 93.213, 差值 = 12.3535\n",
      "第290次: theta0 = 427.951, theta1 = 93.219, 差值 = 11.8643\n",
      "第291次: theta0 = 427.975, theta1 = 93.224, 差值 = 11.3945\n",
      "第292次: theta0 = 427.998, theta1 = 93.229, 差值 = 10.9433\n",
      "第293次: theta0 = 428.021, theta1 = 93.234, 差值 = 10.5099\n",
      "第294次: theta0 = 428.044, theta1 = 93.239, 差值 = 10.0937\n",
      "第295次: theta0 = 428.066, theta1 = 93.244, 差值 = 9.6940\n",
      "第296次: theta0 = 428.087, theta1 = 93.248, 差值 = 9.3101\n",
      "第297次: theta0 = 428.109, theta1 = 93.253, 差值 = 8.9415\n",
      "第298次: theta0 = 428.130, theta1 = 93.257, 差值 = 8.5874\n",
      "第299次: theta0 = 428.150, theta1 = 93.262, 差值 = 8.2473\n",
      "第300次: theta0 = 428.170, theta1 = 93.266, 差值 = 7.9207\n",
      "第301次: theta0 = 428.190, theta1 = 93.270, 差值 = 7.6071\n",
      "第302次: theta0 = 428.209, theta1 = 93.275, 差值 = 7.3058\n",
      "第303次: theta0 = 428.228, theta1 = 93.279, 差值 = 7.0165\n",
      "第304次: theta0 = 428.246, theta1 = 93.283, 差值 = 6.7387\n",
      "第305次: theta0 = 428.264, theta1 = 93.287, 差值 = 6.4718\n",
      "第306次: theta0 = 428.282, theta1 = 93.290, 差值 = 6.2155\n",
      "第307次: theta0 = 428.299, theta1 = 93.294, 差值 = 5.9694\n",
      "第308次: theta0 = 428.316, theta1 = 93.298, 差值 = 5.7330\n",
      "第309次: theta0 = 428.333, theta1 = 93.302, 差值 = 5.5060\n",
      "第310次: theta0 = 428.349, theta1 = 93.305, 差值 = 5.2879\n",
      "第311次: theta0 = 428.365, theta1 = 93.309, 差值 = 5.0785\n",
      "第312次: theta0 = 428.381, theta1 = 93.312, 差值 = 4.8774\n",
      "第313次: theta0 = 428.396, theta1 = 93.315, 差值 = 4.6843\n",
      "第314次: theta0 = 428.411, theta1 = 93.319, 差值 = 4.4988\n",
      "第315次: theta0 = 428.426, theta1 = 93.322, 差值 = 4.3206\n",
      "第316次: theta0 = 428.441, theta1 = 93.325, 差值 = 4.1495\n",
      "第317次: theta0 = 428.455, theta1 = 93.328, 差值 = 3.9852\n",
      "第318次: theta0 = 428.469, theta1 = 93.331, 差值 = 3.8274\n",
      "第319次: theta0 = 428.482, theta1 = 93.334, 差值 = 3.6758\n",
      "第320次: theta0 = 428.496, theta1 = 93.337, 差值 = 3.5303\n",
      "第321次: theta0 = 428.509, theta1 = 93.340, 差值 = 3.3905\n",
      "第322次: theta0 = 428.522, theta1 = 93.342, 差值 = 3.2562\n",
      "第323次: theta0 = 428.534, theta1 = 93.345, 差值 = 3.1273\n",
      "第324次: theta0 = 428.547, theta1 = 93.348, 差值 = 3.0034\n",
      "第325次: theta0 = 428.559, theta1 = 93.351, 差值 = 2.8845\n",
      "第326次: theta0 = 428.570, theta1 = 93.353, 差值 = 2.7703\n",
      "第327次: theta0 = 428.582, theta1 = 93.356, 差值 = 2.6606\n",
      "第328次: theta0 = 428.593, theta1 = 93.358, 差值 = 2.5552\n",
      "第329次: theta0 = 428.604, theta1 = 93.360, 差值 = 2.4540\n",
      "第330次: theta0 = 428.615, theta1 = 93.363, 差值 = 2.3568\n",
      "第331次: theta0 = 428.626, theta1 = 93.365, 差值 = 2.2635\n",
      "第332次: theta0 = 428.637, theta1 = 93.367, 差值 = 2.1739\n",
      "第333次: theta0 = 428.647, theta1 = 93.370, 差值 = 2.0878\n",
      "第334次: theta0 = 428.657, theta1 = 93.372, 差值 = 2.0051\n",
      "第335次: theta0 = 428.667, theta1 = 93.374, 差值 = 1.9257\n",
      "第336次: theta0 = 428.676, theta1 = 93.376, 差值 = 1.8494\n",
      "第337次: theta0 = 428.686, theta1 = 93.378, 差值 = 1.7762\n",
      "第338次: theta0 = 428.695, theta1 = 93.380, 差值 = 1.7059\n",
      "第339次: theta0 = 428.704, theta1 = 93.382, 差值 = 1.6383\n",
      "第340次: theta0 = 428.713, theta1 = 93.384, 差值 = 1.5734\n",
      "第341次: theta0 = 428.722, theta1 = 93.386, 差值 = 1.5111\n",
      "第342次: theta0 = 428.730, theta1 = 93.388, 差值 = 1.4513\n",
      "第343次: theta0 = 428.739, theta1 = 93.390, 差值 = 1.3938\n",
      "第344次: theta0 = 428.747, theta1 = 93.391, 差值 = 1.3386\n",
      "第345次: theta0 = 428.755, theta1 = 93.393, 差值 = 1.2856\n",
      "第346次: theta0 = 428.763, theta1 = 93.395, 差值 = 1.2347\n",
      "第347次: theta0 = 428.771, theta1 = 93.397, 差值 = 1.1858\n",
      "第348次: theta0 = 428.778, theta1 = 93.398, 差值 = 1.1389\n",
      "第349次: theta0 = 428.786, theta1 = 93.400, 差值 = 1.0938\n",
      "第350次: theta0 = 428.793, theta1 = 93.401, 差值 = 1.0504\n",
      "第351次: theta0 = 428.800, theta1 = 93.403, 差值 = 1.0088\n",
      "第352次: theta0 = 428.807, theta1 = 93.404, 差值 = 0.9689\n",
      "第353次: theta0 = 428.814, theta1 = 93.406, 差值 = 0.9305\n",
      "第354次: theta0 = 428.821, theta1 = 93.407, 差值 = 0.8937\n",
      "第355次: theta0 = 428.827, theta1 = 93.409, 差值 = 0.8583\n",
      "第356次: theta0 = 428.834, theta1 = 93.410, 差值 = 0.8243\n",
      "第357次: theta0 = 428.840, theta1 = 93.412, 差值 = 0.7917\n",
      "第358次: theta0 = 428.846, theta1 = 93.413, 差值 = 0.7603\n",
      "第359次: theta0 = 428.852, theta1 = 93.414, 差值 = 0.7302\n",
      "第360次: theta0 = 428.858, theta1 = 93.416, 差值 = 0.7013\n",
      "第361次: theta0 = 428.864, theta1 = 93.417, 差值 = 0.6735\n",
      "第362次: theta0 = 428.870, theta1 = 93.418, 差值 = 0.6468\n",
      "第363次: theta0 = 428.876, theta1 = 93.419, 差值 = 0.6212\n",
      "第364次: theta0 = 428.881, theta1 = 93.420, 差值 = 0.5966\n",
      "第365次: theta0 = 428.886, theta1 = 93.422, 差值 = 0.5730\n",
      "第366次: theta0 = 428.892, theta1 = 93.423, 差值 = 0.5503\n",
      "第367次: theta0 = 428.897, theta1 = 93.424, 差值 = 0.5285\n",
      "第368次: theta0 = 428.902, theta1 = 93.425, 差值 = 0.5076\n",
      "第369次: theta0 = 428.907, theta1 = 93.426, 差值 = 0.4875\n",
      "第370次: theta0 = 428.912, theta1 = 93.427, 差值 = 0.4682\n",
      "第371次: theta0 = 428.916, theta1 = 93.428, 差值 = 0.4496\n",
      "第372次: theta0 = 428.921, theta1 = 93.429, 差值 = 0.4318\n",
      "第373次: theta0 = 428.926, theta1 = 93.430, 差值 = 0.4147\n",
      "第374次: theta0 = 428.930, theta1 = 93.431, 差值 = 0.3983\n",
      "第375次: theta0 = 428.935, theta1 = 93.432, 差值 = 0.3825\n",
      "第376次: theta0 = 428.939, theta1 = 93.433, 差值 = 0.3674\n",
      "第377次: theta0 = 428.943, theta1 = 93.434, 差值 = 0.3528\n",
      "第378次: theta0 = 428.947, theta1 = 93.435, 差值 = 0.3389\n",
      "第379次: theta0 = 428.951, theta1 = 93.436, 差值 = 0.3255\n",
      "第380次: theta0 = 428.955, theta1 = 93.437, 差值 = 0.3126\n",
      "第381次: theta0 = 428.959, theta1 = 93.437, 差值 = 0.3002\n",
      "第382次: theta0 = 428.963, theta1 = 93.438, 差值 = 0.2883\n",
      "第383次: theta0 = 428.967, theta1 = 93.439, 差值 = 0.2769\n",
      "第384次: theta0 = 428.970, theta1 = 93.440, 差值 = 0.2659\n",
      "第385次: theta0 = 428.974, theta1 = 93.441, 差值 = 0.2554\n",
      "第386次: theta0 = 428.978, theta1 = 93.441, 差值 = 0.2453\n",
      "第387次: theta0 = 428.981, theta1 = 93.442, 差值 = 0.2356\n",
      "第388次: theta0 = 428.984, theta1 = 93.443, 差值 = 0.2262\n",
      "第389次: theta0 = 428.988, theta1 = 93.444, 差值 = 0.2173\n",
      "第390次: theta0 = 428.991, theta1 = 93.444, 差值 = 0.2087\n",
      "第391次: theta0 = 428.994, theta1 = 93.445, 差值 = 0.2004\n",
      "第392次: theta0 = 428.997, theta1 = 93.446, 差值 = 0.1925\n",
      "第393次: theta0 = 429.000, theta1 = 93.446, 差值 = 0.1848\n",
      "第394次: theta0 = 429.003, theta1 = 93.447, 差值 = 0.1775\n",
      "第395次: theta0 = 429.006, theta1 = 93.448, 差值 = 0.1705\n",
      "第396次: theta0 = 429.009, theta1 = 93.448, 差值 = 0.1637\n",
      "第397次: theta0 = 429.012, theta1 = 93.449, 差值 = 0.1573\n",
      "第398次: theta0 = 429.015, theta1 = 93.449, 差值 = 0.1510\n",
      "第399次: theta0 = 429.017, theta1 = 93.450, 差值 = 0.1451\n",
      "第400次: theta0 = 429.020, theta1 = 93.451, 差值 = 0.1393\n",
      "第401次: theta0 = 429.023, theta1 = 93.451, 差值 = 0.1338\n",
      "第402次: theta0 = 429.025, theta1 = 93.452, 差值 = 0.1285\n",
      "第403次: theta0 = 429.028, theta1 = 93.452, 差值 = 0.1234\n",
      "第404次: theta0 = 429.030, theta1 = 93.453, 差值 = 0.1185\n",
      "第405次: theta0 = 429.033, theta1 = 93.453, 差值 = 0.1138\n",
      "第406次: theta0 = 429.035, theta1 = 93.454, 差值 = 0.1093\n",
      "第407次: theta0 = 429.037, theta1 = 93.454, 差值 = 0.1050\n",
      "第408次: theta0 = 429.039, theta1 = 93.455, 差值 = 0.1008\n",
      "第409次: theta0 = 429.042, theta1 = 93.455, 差值 = 0.0968\n",
      "第410次: theta0 = 429.044, theta1 = 93.456, 差值 = 0.0930\n",
      "第411次: theta0 = 429.046, theta1 = 93.456, 差值 = 0.0893\n",
      "第412次: theta0 = 429.048, theta1 = 93.457, 差值 = 0.0858\n",
      "第413次: theta0 = 429.050, theta1 = 93.457, 差值 = 0.0824\n",
      "第414次: theta0 = 429.052, theta1 = 93.458, 差值 = 0.0791\n",
      "第415次: theta0 = 429.054, theta1 = 93.458, 差值 = 0.0760\n",
      "第416次: theta0 = 429.056, theta1 = 93.458, 差值 = 0.0730\n",
      "第417次: theta0 = 429.058, theta1 = 93.459, 差值 = 0.0701\n",
      "第418次: theta0 = 429.060, theta1 = 93.459, 差值 = 0.0673\n",
      "第419次: theta0 = 429.061, theta1 = 93.460, 差值 = 0.0647\n",
      "第420次: theta0 = 429.063, theta1 = 93.460, 差值 = 0.0621\n",
      "第421次: theta0 = 429.065, theta1 = 93.460, 差值 = 0.0596\n",
      "第422次: theta0 = 429.067, theta1 = 93.461, 差值 = 0.0573\n",
      "第423次: theta0 = 429.068, theta1 = 93.461, 差值 = 0.0550\n",
      "第424次: theta0 = 429.070, theta1 = 93.461, 差值 = 0.0528\n",
      "第425次: theta0 = 429.072, theta1 = 93.462, 差值 = 0.0507\n",
      "第426次: theta0 = 429.073, theta1 = 93.462, 差值 = 0.0487\n",
      "第427次: theta0 = 429.075, theta1 = 93.462, 差值 = 0.0468\n",
      "第428次: theta0 = 429.076, theta1 = 93.463, 差值 = 0.0449\n",
      "第429次: theta0 = 429.078, theta1 = 93.463, 差值 = 0.0432\n",
      "第430次: theta0 = 429.079, theta1 = 93.463, 差值 = 0.0415\n",
      "第431次: theta0 = 429.081, theta1 = 93.464, 差值 = 0.0398\n",
      "第432次: theta0 = 429.082, theta1 = 93.464, 差值 = 0.0382\n",
      "第433次: theta0 = 429.083, theta1 = 93.464, 差值 = 0.0367\n",
      "第434次: theta0 = 429.085, theta1 = 93.465, 差值 = 0.0353\n",
      "第435次: theta0 = 429.086, theta1 = 93.465, 差值 = 0.0339\n",
      "第436次: theta0 = 429.087, theta1 = 93.465, 差值 = 0.0325\n",
      "第437次: theta0 = 429.088, theta1 = 93.465, 差值 = 0.0312\n",
      "第438次: theta0 = 429.090, theta1 = 93.466, 差值 = 0.0300\n",
      "第439次: theta0 = 429.091, theta1 = 93.466, 差值 = 0.0288\n",
      "第440次: theta0 = 429.092, theta1 = 93.466, 差值 = 0.0277\n",
      "第441次: theta0 = 429.093, theta1 = 93.466, 差值 = 0.0266\n",
      "第442次: theta0 = 429.094, theta1 = 93.467, 差值 = 0.0255\n",
      "第443次: theta0 = 429.095, theta1 = 93.467, 差值 = 0.0245\n",
      "第444次: theta0 = 429.097, theta1 = 93.467, 差值 = 0.0235\n",
      "第445次: theta0 = 429.098, theta1 = 93.467, 差值 = 0.0226\n",
      "第446次: theta0 = 429.099, theta1 = 93.468, 差值 = 0.0217\n",
      "第447次: theta0 = 429.100, theta1 = 93.468, 差值 = 0.0209\n",
      "第448次: theta0 = 429.101, theta1 = 93.468, 差值 = 0.0200\n",
      "第449次: theta0 = 429.102, theta1 = 93.468, 差值 = 0.0192\n",
      "第450次: theta0 = 429.103, theta1 = 93.469, 差值 = 0.0185\n",
      "第451次: theta0 = 429.104, theta1 = 93.469, 差值 = 0.0177\n",
      "第452次: theta0 = 429.105, theta1 = 93.469, 差值 = 0.0170\n",
      "第453次: theta0 = 429.105, theta1 = 93.469, 差值 = 0.0164\n",
      "第454次: theta0 = 429.106, theta1 = 93.469, 差值 = 0.0157\n",
      "第455次: theta0 = 429.107, theta1 = 93.469, 差值 = 0.0151\n",
      "第456次: theta0 = 429.108, theta1 = 93.470, 差值 = 0.0145\n",
      "第457次: theta0 = 429.109, theta1 = 93.470, 差值 = 0.0139\n",
      "第458次: theta0 = 429.110, theta1 = 93.470, 差值 = 0.0134\n",
      "第459次: theta0 = 429.111, theta1 = 93.470, 差值 = 0.0128\n",
      "第460次: theta0 = 429.111, theta1 = 93.470, 差值 = 0.0123\n",
      "第461次: theta0 = 429.112, theta1 = 93.471, 差值 = 0.0118\n",
      "第462次: theta0 = 429.113, theta1 = 93.471, 差值 = 0.0114\n",
      "第463次: theta0 = 429.114, theta1 = 93.471, 差值 = 0.0109\n",
      "第464次: theta0 = 429.114, theta1 = 93.471, 差值 = 0.0105\n",
      "第465次: theta0 = 429.115, theta1 = 93.471, 差值 = 0.0101\n",
      "第466次: theta0 = 429.116, theta1 = 93.471, 差值 = 0.0097\n"
     ]
    }
   ],
   "source": [
    "ETA = 1e-3\n",
    "diff = 1\n",
    "count = 0\n",
    "\n",
    "error = E(train_z, train_y)\n",
    "while diff > 1e-2:\n",
    "    tmp0 = theta0 - ETA * np.sum(f(train_z) - train_y)\n",
    "    tmp1 = theta1 - ETA * np.sum((f(train_z) - train_y) * train_z)\n",
    "    \n",
    "    theta0 = tmp0\n",
    "    theta1 = tmp1\n",
    "    \n",
    "    current_error = E(train_z, train_y)\n",
    "    diff = error - current_error\n",
    "    error = current_error\n",
    "    \n",
    "    count += 1\n",
    "    log = '第{}次: theta0 = {:.3f}, theta1 = {:.3f}, 差值 = {:.4f}'\n",
    "    print(log.format(count, theta0, theta1, diff))"
   ]
  },
  {
   "cell_type": "code",
   "execution_count": 21,
   "metadata": {},
   "outputs": [
    {
     "data": {
      "text/plain": [
       "<function matplotlib.pyplot.show(*args, **kw)>"
      ]
     },
     "execution_count": 21,
     "metadata": {},
     "output_type": "execute_result"
    },
    {
     "data": {
      "image/png": "[encoded data removed]",
      "text/plain": [
       "<Figure size 432x288 with 1 Axes>"
      ]
     },
     "metadata": {
      "needs_background": "light"
     },
     "output_type": "display_data"
    }
   ],
   "source": [
    "x = np.linspace(-3, 3, 100)\n",
    "plt.plot(train_z, train_y, 'o')\n",
    "plt.plot(x, f(x))\n",
    "plt.show"
   ]
  },
  {
   "cell_type": "code",
   "execution_count": 26,
   "metadata": {},
   "outputs": [
    {
     "name": "stdout",
     "output_type": "stream",
     "text": [
      "371.0671318142877\n",
      "510.6070577655279\n",
      "650.1469837167681\n"
     ]
    }
   ],
   "source": [
    "print(f(standardize(100)))\n",
    "print(f(standardize(200)))\n",
    "print(f(standardize(300)))"
   ]
  },
  {
   "cell_type": "markdown",
   "metadata": {},
   "source": [
    "多项式回归"
   ]
  },
  {
   "cell_type": "code",
   "execution_count": 28,
   "metadata": {},
   "outputs": [],
   "source": [
    "theta = np.random.rand(3)"
   ]
  },
  {
   "cell_type": "code",
   "execution_count": 29,
   "metadata": {},
   "outputs": [],
   "source": [
    "def to_matrix(x):\n",
    "    return np.vstack([np.ones(x.shape[0]), x, x**2]).T"
   ]
  },
  {
   "cell_type": "code",
   "execution_count": 31,
   "metadata": {},
   "outputs": [],
   "source": [
    "X = to_matrix(train_z)"
   ]
  },
  {
   "cell_type": "code",
   "execution_count": 32,
   "metadata": {},
   "outputs": [],
   "source": [
    "def f(x):\n",
    "    return np.dot(x, theta)"
   ]
  },
  {
   "cell_type": "code",
   "execution_count": 34,
   "metadata": {},
   "outputs": [],
   "source": [
    "diff = 1\n",
    "\n",
    "error = E(X, train_y)\n",
    "while diff > 1e-2:\n",
    "    theta = theta - ETA * np.dot(f(X) - train_y, X)\n",
    "    current_error = E(X, train_y)\n",
    "    diff = error - current_error\n",
    "    error = current_error"
   ]
  },
  {
   "cell_type": "code",
   "execution_count": 36,
   "metadata": {},
   "outputs": [
    {
     "data": {
      "image/png": "[encoded data removed]",
      "text/plain": [
       "<Figure size 432x288 with 1 Axes>"
      ]
     },
     "metadata": {
      "needs_background": "light"
     },
     "output_type": "display_data"
    }
   ],
   "source": [
    "x = np.linspace(-3, 3, 100)\n",
    "\n",
    "plt.plot(train_z, train_y, 'o')\n",
    "plt.plot(x, f(to_matrix(x)))\n",
    "plt.show()"
   ]
  },
  {
   "cell_type": "code",
   "execution_count": 38,
   "metadata": {},
   "outputs": [
    {
     "data": {
      "image/png": "[encoded data removed]",
      "text/plain": [
       "<Figure size 432x288 with 1 Axes>"
      ]
     },
     "metadata": {
      "needs_background": "light"
     },
     "output_type": "display_data"
    }
   ],
   "source": [
    "def MSE(x, y):\n",
    "    return (1 / x.shape[0]) * np.sum((y - f(x)) ** 2)\n",
    "\n",
    "theta = np.random.rand(3)\n",
    "\n",
    "errors = []\n",
    "diff = 1\n",
    "errors.append(MSE(X, train_y))\n",
    "while  diff > 1e-2:\n",
    "    theta = theta - ETA * np.dot(f(X) - train_y, X)\n",
    "    errors.append(MSE(X, train_y))\n",
    "    diff = errors[-2] - errors[-1]\n",
    "\n",
    "x = np.arange(len(errors))\n",
    "plt.plot(x, errors)\n",
    "plt.show()"
   ]
  },
  {
   "cell_type": "markdown",
   "metadata": {},
   "source": [
    "随机梯度下降法"
   ]
  },
  {
   "cell_type": "code",
   "execution_count": 41,
   "metadata": {},
   "outputs": [],
   "source": [
    "theta = np.random.rand(3)\n",
    "\n",
    "errors = []\n",
    "\n",
    "diff = 1\n",
    "\n",
    "#重复学习\n",
    "errors.append(MSE(X, train_y))\n",
    "while diff > 1e-2:\n",
    "    p = np.random.permutation(X.shape[0])\n",
    "    for x,y in zip(X[p,:], train_y[p]):\n",
    "        theta = theta - ETA * (f(x) - y) * x\n",
    "    \n",
    "    errors.append(MSE(X, train_y))\n",
    "    diff = errors[-2] - errors[-1]"
   ]
  },
  {
   "cell_type": "code",
   "execution_count": 42,
   "metadata": {},
   "outputs": [
    {
     "data": {
      "image/png": "[encoded data removed]",
      "text/plain": [
       "<Figure size 432x288 with 1 Axes>"
      ]
     },
     "metadata": {
      "needs_background": "light"
     },
     "output_type": "display_data"
    }
   ],
   "source": [
    "x = np.linspace(-3, 3, 100)\n",
    "\n",
    "plt.plot(train_z, train_y, 'o')\n",
    "plt.plot(x, f(to_matrix(x)))\n",
    "plt.show()"
   ]
  }
 ],
 "metadata": {
  "kernelspec": {
   "display_name": "Python 3",
   "language": "python",
   "name": "python3"
  },
  "language_info": {
   "codemirror_mode": {
    "name": "ipython",
    "version": 3
   },
   "file_extension": ".py",
   "mimetype": "text/x-python",
   "name": "python",
   "nbconvert_exporter": "python",
   "pygments_lexer": "ipython3",
   "version": "3.7.6"
  }
 },
 "nbformat": 4,
 "nbformat_minor": 4
}
